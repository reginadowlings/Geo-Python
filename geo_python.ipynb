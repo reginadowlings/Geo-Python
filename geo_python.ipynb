{
  "cells": [
    {
      "cell_type": "code",
      "execution_count": 12,
      "metadata": {},
      "outputs": [],
      "source": [
        "from shapely.geometry import Point, Polygon, LineString, LinearRing, base\n",
        "\n",
        "\n",
        "                                          ######### GEOMETRIC OBJECTS (SHAPELY) ###########\n",
        "\n",
        "\n",
        "#USING POINT\n",
        "cords = Point(2.2 , 4.2)    \n",
        "cords1 = Point(7.2 , -25.1)\n",
        "cords2 = Point(9.26, -2.456)\n",
        "cords3 = Point(9.26, -2.456, 0.57)\n",
        "\n",
        "cordinates = cords.coords  #this line of code extracts the coordinates from cords \n",
        "xy = cordinates.xy  #this allocates and gets the x and y coordinates: printing it as numpy arrays \n",
        "x = cords.x   \n",
        "y = cords.y    #return just the x or y coordinates when printed\n",
        "\n",
        "\n",
        "\n",
        "#Given two points, one can calculate the distance between both points\n",
        "point_distance = cords.distance(cords1)\n",
        "\n",
        "#printing this returns a statement showing the distance calculated\n",
        "'The distance between both points is ', point_distance, 'decimal degrees' \n",
        "\n",
        "#printing this line of code returns the value to two decimal places\n",
        "f'The distance between both points is {point_distance :.2f} meters' \n",
        "\n",
        "\n",
        "#these are coordintaes of each ends of Nii Kotey Balale street in East Legon, Ghana\n",
        "point1 = Point(5.6426548, -0.1607569)\n",
        "point2 = Point(5.6495134, -0.1616839) \n",
        "\n",
        "line2 = LineString([point1, point2])\n"
      ]
    },
    {
      "cell_type": "code",
      "execution_count": 13,
      "metadata": {
        "trusted": true
      },
      "outputs": [
        {
          "name": "stdout",
          "output_type": "stream",
          "text": [
            "POINT (2.2 4.2)\n"
          ]
        },
        {
          "data": {
            "image/svg+xml": [
              "<svg xmlns=\"http://www.w3.org/2000/svg\" xmlns:xlink=\"http://www.w3.org/1999/xlink\" width=\"100.0\" height=\"100.0\" viewBox=\"1.2000000000000002 3.2 2.0 2.0\" preserveAspectRatio=\"xMinYMin meet\"><g transform=\"matrix(1,0,0,-1,0,8.4)\"><circle cx=\"2.2\" cy=\"4.2\" r=\"0.06\" stroke=\"#555555\" stroke-width=\"0.02\" fill=\"#66cc99\" opacity=\"0.6\" /></g></svg>"
            ],
            "text/plain": [
              "<POINT (2.2 4.2)>"
            ]
          },
          "execution_count": 13,
          "metadata": {},
          "output_type": "execute_result"
        }
      ],
      "source": [
        "cords"
      ]
    },
    {
      "cell_type": "code",
      "execution_count": 14,
      "metadata": {
        "trusted": true
      },
      "outputs": [
        {
          "name": "stdout",
          "output_type": "stream",
          "text": [
            "LINESTRING (2.2 4.2, 7.2 -25.1, 9.26 -2.456)\n"
          ]
        },
        {
          "data": {
            "image/svg+xml": [
              "<svg xmlns=\"http://www.w3.org/2000/svg\" xmlns:xlink=\"http://www.w3.org/1999/xlink\" width=\"100.0\" height=\"100.0\" viewBox=\"1.028 -26.272000000000002 9.404 31.644000000000002\" preserveAspectRatio=\"xMinYMin meet\"><g transform=\"matrix(1,0,0,-1,0,-20.900000000000002)\"><polyline fill=\"none\" stroke=\"#66cc99\" stroke-width=\"0.63288\" points=\"2.2,4.2 7.2,-25.1 9.26,-2.456\" opacity=\"0.8\" /></g></svg>"
            ],
            "text/plain": [
              "<LINESTRING (2.2 4.2, 7.2 -25.1, 9.26 -2.456)>"
            ]
          },
          "execution_count": 14,
          "metadata": {},
          "output_type": "execute_result"
        }
      ],
      "source": [
        "line = LineString([cords, cords1, cords2])\n",
        "line"
      ]
    },
    {
      "cell_type": "code",
      "execution_count": 15,
      "metadata": {
        "trusted": true
      },
      "outputs": [
        {
          "name": "stdout",
          "output_type": "stream",
          "text": [
            "POINT (5.6426548 -0.1607569)\n"
          ]
        },
        {
          "data": {
            "image/svg+xml": [
              "<svg xmlns=\"http://www.w3.org/2000/svg\" xmlns:xlink=\"http://www.w3.org/1999/xlink\" width=\"100.0\" height=\"100.0\" viewBox=\"4.6426548 -1.1607569 2.0 2.0\" preserveAspectRatio=\"xMinYMin meet\"><g transform=\"matrix(1,0,0,-1,0,-0.32151379999999996)\"><circle cx=\"5.6426548\" cy=\"-0.1607569\" r=\"0.06\" stroke=\"#555555\" stroke-width=\"0.02\" fill=\"#66cc99\" opacity=\"0.6\" /></g></svg>"
            ],
            "text/plain": [
              "<POINT (5.643 -0.161)>"
            ]
          },
          "execution_count": 15,
          "metadata": {},
          "output_type": "execute_result"
        }
      ],
      "source": [
        "point1 = Point(5.6426548, -0.1607569)  #coordinates of a street in East Legon, Accra - Ghana\n",
        "point2 = Point(5.6495134, -0.1616839) \n",
        "\n",
        "\n",
        "point1"
      ]
    },
    {
      "cell_type": "code",
      "execution_count": 16,
      "metadata": {
        "trusted": true
      },
      "outputs": [
        {
          "data": {
            "text/plain": [
              "'The centre of the line is POINT (6.23 -11.89) units'"
            ]
          },
          "execution_count": 16,
          "metadata": {},
          "output_type": "execute_result"
        }
      ],
      "source": [
        "\n",
        "#USING LINE/LINESRING\n",
        "line = LineString([cords, cords1, cords2]) #creating a LIST of coordinate tuples forms a line object\n",
        "\n",
        "coor = line.coords #this gets the coordinates of the line\n",
        "# xy = coor.xy #returning this prints the coordinates of the line\n",
        "\n",
        "\n",
        "#the linesting has other methods like calculating the length, and centre\n",
        "length = line.length\n",
        "f'The length od the line is {length:.1f} meters'\n",
        "\n",
        "centre = line.centroid\n",
        "(f'The centre of the line is {centre:.2f} units')\n"
      ]
    },
    {
      "cell_type": "code",
      "execution_count": 17,
      "metadata": {},
      "outputs": [
        {
          "name": "stdout",
          "output_type": "stream",
          "text": [
            "LINESTRING (5.6426548 -0.1607569, 5.6495134 -0.1616839)\n"
          ]
        },
        {
          "data": {
            "image/svg+xml": [
              "<svg xmlns=\"http://www.w3.org/2000/svg\" xmlns:xlink=\"http://www.w3.org/1999/xlink\" width=\"100.0\" height=\"100.0\" viewBox=\"5.642380456 -0.161958244 0.007407288000000456 0.0014756880000000028\" preserveAspectRatio=\"xMinYMin meet\"><g transform=\"matrix(1,0,0,-1,0,-0.32244079999999997)\"><polyline fill=\"none\" stroke=\"#66cc99\" stroke-width=\"0.00014814576000000913\" points=\"5.6426548,-0.1607569 5.6495134,-0.1616839\" opacity=\"0.8\" /></g></svg>"
            ],
            "text/plain": [
              "<LINESTRING (5.643 -0.161, 5.65 -0.162)>"
            ]
          },
          "execution_count": 17,
          "metadata": {},
          "output_type": "execute_result"
        }
      ],
      "source": [
        "line2 = LineString([point1, point2])\n",
        "line2"
      ]
    },
    {
      "cell_type": "code",
      "execution_count": null,
      "metadata": {},
      "outputs": [],
      "source": []
    },
    {
      "cell_type": "code",
      "execution_count": 18,
      "metadata": {},
      "outputs": [],
      "source": [
        "#CREATING POLYGONS"
      ]
    },
    {
      "cell_type": "code",
      "execution_count": 19,
      "metadata": {
        "trusted": true
      },
      "outputs": [],
      "source": [
        "\n",
        "from shapely.geometry import Polygon,LinearRing\n",
        "\n",
        "cords = Point(2.2, 4.2)    \n",
        "cords1 = Point(7.2, -25.1)\n",
        "cords2 = Point(9.26, -2.456)\n",
        "cords3 = Point(9.26, -2.456, 0.57)"
      ]
    },
    {
      "cell_type": "code",
      "execution_count": 20,
      "metadata": {},
      "outputs": [],
      "source": [
        "\n",
        "\n",
        "# poly1 = Polygon([cords, cords1, cords2])  #can be created from a tuple coordinates or from a linestring\n",
        "\n",
        "outer =([ (-180, 90), (-180, -90), (180, -90), (180, 90)]) #creates a polygon\n",
        "hole = ([(-170, 80), (-100, -80), (100, -80), (170, 80)])\n",
        "\n",
        "pent = Polygon([(30, 2.01), (31.91, 0.62), (31.18, -1.63), (28.82, -1.63), (28.09, 0.62)])\n",
        "\n",
        "world = Polygon(outer)\n",
        "# print(shape)"
      ]
    },
    {
      "cell_type": "code",
      "execution_count": 21,
      "metadata": {
        "trusted": true
      },
      "outputs": [
        {
          "name": "stdout",
          "output_type": "stream",
          "text": [
            "POLYGON ((2.2 4.2, 7.2 -25.1, 9.26 -2.456, 2.2 4.2))\n"
          ]
        },
        {
          "data": {
            "image/svg+xml": [
              "<svg xmlns=\"http://www.w3.org/2000/svg\" xmlns:xlink=\"http://www.w3.org/1999/xlink\" width=\"100.0\" height=\"100.0\" viewBox=\"1.028 -26.272000000000002 9.404 31.644000000000002\" preserveAspectRatio=\"xMinYMin meet\"><g transform=\"matrix(1,0,0,-1,0,-20.900000000000002)\"><path fill-rule=\"evenodd\" fill=\"#66cc99\" stroke=\"#555555\" stroke-width=\"0.63288\" opacity=\"0.6\" d=\"M 2.2,4.2 L 7.2,-25.1 L 9.26,-2.456 L 2.2,4.2 z\" /></g></svg>"
            ],
            "text/plain": [
              "<POLYGON ((2.2 4.2, 7.2 -25.1, 9.26 -2.456, 2.2 4.2))>"
            ]
          },
          "execution_count": 21,
          "metadata": {},
          "output_type": "execute_result"
        }
      ],
      "source": [
        "polygon1 = Polygon([(2.2, 4.2) , (7.2, -25.1),(9.26, -2.456)])\n",
        "polygon1"
      ]
    },
    {
      "cell_type": "code",
      "execution_count": 22,
      "metadata": {
        "trusted": true
      },
      "outputs": [
        {
          "name": "stdout",
          "output_type": "stream",
          "text": [
            "POLYGON ((-180 90, -180 -90, 180 -90, 180 90, -180 90))\n"
          ]
        },
        {
          "data": {
            "image/svg+xml": [
              "<svg xmlns=\"http://www.w3.org/2000/svg\" xmlns:xlink=\"http://www.w3.org/1999/xlink\" width=\"300\" height=\"208.8\" viewBox=\"-194.4 -104.4 388.8 208.8\" preserveAspectRatio=\"xMinYMin meet\"><g transform=\"matrix(1,0,0,-1,0,0.0)\"><path fill-rule=\"evenodd\" fill=\"#66cc99\" stroke=\"#555555\" stroke-width=\"2.592\" opacity=\"0.6\" d=\"M -180.0,90.0 L -180.0,-90.0 L 180.0,-90.0 L 180.0,90.0 L -180.0,90.0 z\" /></g></svg>"
            ],
            "text/plain": [
              "<POLYGON ((-180 90, -180 -90, 180 -90, 180 90, -180 90))>"
            ]
          },
          "execution_count": 22,
          "metadata": {},
          "output_type": "execute_result"
        }
      ],
      "source": [
        "outer = Polygon([(-180, 90), (-180, -90), (180, -90), (180, 90)])\n",
        "hole = Polygon([(-170, 80), (-100, -80), (100, -80), (170, 80)])\n",
        "outer"
      ]
    },
    {
      "cell_type": "code",
      "execution_count": 23,
      "metadata": {
        "trusted": true
      },
      "outputs": [
        {
          "data": {
            "image/svg+xml": [
              "<svg xmlns=\"http://www.w3.org/2000/svg\" xmlns:xlink=\"http://www.w3.org/1999/xlink\" width=\"300\" height=\"187.2\" viewBox=\"-183.6 -93.6 367.2 187.2\" preserveAspectRatio=\"xMinYMin meet\"><g transform=\"matrix(1,0,0,-1,0,0.0)\"><path fill-rule=\"evenodd\" fill=\"#66cc99\" stroke=\"#555555\" stroke-width=\"2.448\" opacity=\"0.6\" d=\"M -170.0,80.0 L -100.0,-80.0 L 100.0,-80.0 L 170.0,80.0 L -170.0,80.0 z\" /></g></svg>"
            ],
            "text/plain": [
              "<POLYGON ((-170 80, -100 -80, 100 -80, 170 80, -170 80))>"
            ]
          },
          "execution_count": 23,
          "metadata": {},
          "output_type": "execute_result"
        }
      ],
      "source": [
        "hole"
      ]
    },
    {
      "cell_type": "code",
      "execution_count": 24,
      "metadata": {},
      "outputs": [],
      "source": [
        "# from exercises import create_polygon_geometry\n",
        "\n",
        "# point1 = (2.2 , 4.3)\n",
        "# point2 = (3.3, 5.2)\n",
        "# point3 = (5.3 , 7.1)\n",
        "# point4 = (7.4 , 18.3)\n",
        "\n",
        "# poly1 = create_polygon_geometry([point1, point2, point3, point4])\n",
        "\n",
        "# poly1"
      ]
    },
    {
      "cell_type": "code",
      "execution_count": 25,
      "metadata": {},
      "outputs": [
        {
          "data": {
            "text/plain": [
              "WindowsPath('C:/Users/acer/Documents/projects/learning_gis')"
            ]
          },
          "execution_count": 25,
          "metadata": {},
          "output_type": "execute_result"
        }
      ],
      "source": [
        "import pathlib \n",
        "\n",
        "path = pathlib.Path()\n",
        "path.resolve()"
      ]
    },
    {
      "cell_type": "code",
      "execution_count": null,
      "metadata": {},
      "outputs": [],
      "source": []
    },
    {
      "cell_type": "code",
      "execution_count": 26,
      "metadata": {},
      "outputs": [],
      "source": [
        "                       ######################### GEOPANDAS ################################ "
      ]
    },
    {
      "cell_type": "code",
      "execution_count": 27,
      "metadata": {},
      "outputs": [],
      "source": [
        "import geopandas as gpd"
      ]
    },
    {
      "cell_type": "code",
      "execution_count": 28,
      "metadata": {},
      "outputs": [
        {
          "data": {
            "text/html": [
              "<div>\n",
              "<style scoped>\n",
              "    .dataframe tbody tr th:only-of-type {\n",
              "        vertical-align: middle;\n",
              "    }\n",
              "\n",
              "    .dataframe tbody tr th {\n",
              "        vertical-align: top;\n",
              "    }\n",
              "\n",
              "    .dataframe thead th {\n",
              "        text-align: right;\n",
              "    }\n",
              "</style>\n",
              "<table border=\"1\" class=\"dataframe\">\n",
              "  <thead>\n",
              "    <tr style=\"text-align: right;\">\n",
              "      <th></th>\n",
              "      <th>ID_NO</th>\n",
              "      <th>BINOMIAL</th>\n",
              "      <th>ORIGIN</th>\n",
              "      <th>COMPILER</th>\n",
              "      <th>YEAR</th>\n",
              "      <th>CITATION</th>\n",
              "      <th>SOURCE</th>\n",
              "      <th>DIST_COMM</th>\n",
              "      <th>ISLAND</th>\n",
              "      <th>SUBSPECIES</th>\n",
              "      <th>...</th>\n",
              "      <th>RL_UPDATE</th>\n",
              "      <th>KINGDOM_NA</th>\n",
              "      <th>PHYLUM_NAM</th>\n",
              "      <th>CLASS_NAME</th>\n",
              "      <th>ORDER_NAME</th>\n",
              "      <th>FAMILY_NAM</th>\n",
              "      <th>GENUS_NAME</th>\n",
              "      <th>SPECIES_NA</th>\n",
              "      <th>CATEGORY</th>\n",
              "      <th>geometry</th>\n",
              "    </tr>\n",
              "  </thead>\n",
              "  <tbody>\n",
              "    <tr>\n",
              "      <th>0</th>\n",
              "      <td>183963.0</td>\n",
              "      <td>Stegastes leucorus</td>\n",
              "      <td>1</td>\n",
              "      <td>IUCN</td>\n",
              "      <td>2010</td>\n",
              "      <td>International Union for Conservation of Nature...</td>\n",
              "      <td>None</td>\n",
              "      <td>None</td>\n",
              "      <td>None</td>\n",
              "      <td>None</td>\n",
              "      <td>...</td>\n",
              "      <td>2012.1</td>\n",
              "      <td>ANIMALIA</td>\n",
              "      <td>CHORDATA</td>\n",
              "      <td>ACTINOPTERYGII</td>\n",
              "      <td>PERCIFORMES</td>\n",
              "      <td>POMACENTRIDAE</td>\n",
              "      <td>Stegastes</td>\n",
              "      <td>leucorus</td>\n",
              "      <td>VU</td>\n",
              "      <td>POLYGON ((-115.64375 29.71392, -115.61585 29.6...</td>\n",
              "    </tr>\n",
              "    <tr>\n",
              "      <th>1</th>\n",
              "      <td>183963.0</td>\n",
              "      <td>Stegastes leucorus</td>\n",
              "      <td>1</td>\n",
              "      <td>IUCN</td>\n",
              "      <td>2010</td>\n",
              "      <td>International Union for Conservation of Nature...</td>\n",
              "      <td>None</td>\n",
              "      <td>None</td>\n",
              "      <td>None</td>\n",
              "      <td>None</td>\n",
              "      <td>...</td>\n",
              "      <td>2012.1</td>\n",
              "      <td>ANIMALIA</td>\n",
              "      <td>CHORDATA</td>\n",
              "      <td>ACTINOPTERYGII</td>\n",
              "      <td>PERCIFORMES</td>\n",
              "      <td>POMACENTRIDAE</td>\n",
              "      <td>Stegastes</td>\n",
              "      <td>leucorus</td>\n",
              "      <td>VU</td>\n",
              "      <td>POLYGON ((-105.58995 21.89340, -105.56483 21.8...</td>\n",
              "    </tr>\n",
              "    <tr>\n",
              "      <th>2</th>\n",
              "      <td>183963.0</td>\n",
              "      <td>Stegastes leucorus</td>\n",
              "      <td>1</td>\n",
              "      <td>IUCN</td>\n",
              "      <td>2010</td>\n",
              "      <td>International Union for Conservation of Nature...</td>\n",
              "      <td>None</td>\n",
              "      <td>None</td>\n",
              "      <td>None</td>\n",
              "      <td>None</td>\n",
              "      <td>...</td>\n",
              "      <td>2012.1</td>\n",
              "      <td>ANIMALIA</td>\n",
              "      <td>CHORDATA</td>\n",
              "      <td>ACTINOPTERYGII</td>\n",
              "      <td>PERCIFORMES</td>\n",
              "      <td>POMACENTRIDAE</td>\n",
              "      <td>Stegastes</td>\n",
              "      <td>leucorus</td>\n",
              "      <td>VU</td>\n",
              "      <td>POLYGON ((-111.15962 19.01536, -111.15948 18.9...</td>\n",
              "    </tr>\n",
              "    <tr>\n",
              "      <th>3</th>\n",
              "      <td>183793.0</td>\n",
              "      <td>Chromis intercrusma</td>\n",
              "      <td>1</td>\n",
              "      <td>IUCN</td>\n",
              "      <td>2010</td>\n",
              "      <td>International Union for Conservation of Nature...</td>\n",
              "      <td>None</td>\n",
              "      <td>None</td>\n",
              "      <td>None</td>\n",
              "      <td>None</td>\n",
              "      <td>...</td>\n",
              "      <td>2012.1</td>\n",
              "      <td>ANIMALIA</td>\n",
              "      <td>CHORDATA</td>\n",
              "      <td>ACTINOPTERYGII</td>\n",
              "      <td>PERCIFORMES</td>\n",
              "      <td>POMACENTRIDAE</td>\n",
              "      <td>Chromis</td>\n",
              "      <td>intercrusma</td>\n",
              "      <td>LC</td>\n",
              "      <td>POLYGON ((-80.86500 -0.77894, -80.75930 -0.833...</td>\n",
              "    </tr>\n",
              "    <tr>\n",
              "      <th>4</th>\n",
              "      <td>183793.0</td>\n",
              "      <td>Chromis intercrusma</td>\n",
              "      <td>1</td>\n",
              "      <td>IUCN</td>\n",
              "      <td>2010</td>\n",
              "      <td>International Union for Conservation of Nature...</td>\n",
              "      <td>None</td>\n",
              "      <td>None</td>\n",
              "      <td>None</td>\n",
              "      <td>None</td>\n",
              "      <td>...</td>\n",
              "      <td>2012.1</td>\n",
              "      <td>ANIMALIA</td>\n",
              "      <td>CHORDATA</td>\n",
              "      <td>ACTINOPTERYGII</td>\n",
              "      <td>PERCIFORMES</td>\n",
              "      <td>POMACENTRIDAE</td>\n",
              "      <td>Chromis</td>\n",
              "      <td>intercrusma</td>\n",
              "      <td>LC</td>\n",
              "      <td>POLYGON ((-67.33922 -55.67610, -67.33755 -55.6...</td>\n",
              "    </tr>\n",
              "  </tbody>\n",
              "</table>\n",
              "<p>5 rows × 24 columns</p>\n",
              "</div>"
            ],
            "text/plain": [
              "      ID_NO             BINOMIAL  ORIGIN COMPILER  YEAR  \\\n",
              "0  183963.0   Stegastes leucorus       1     IUCN  2010   \n",
              "1  183963.0   Stegastes leucorus       1     IUCN  2010   \n",
              "2  183963.0   Stegastes leucorus       1     IUCN  2010   \n",
              "3  183793.0  Chromis intercrusma       1     IUCN  2010   \n",
              "4  183793.0  Chromis intercrusma       1     IUCN  2010   \n",
              "\n",
              "                                            CITATION SOURCE DIST_COMM ISLAND  \\\n",
              "0  International Union for Conservation of Nature...   None      None   None   \n",
              "1  International Union for Conservation of Nature...   None      None   None   \n",
              "2  International Union for Conservation of Nature...   None      None   None   \n",
              "3  International Union for Conservation of Nature...   None      None   None   \n",
              "4  International Union for Conservation of Nature...   None      None   None   \n",
              "\n",
              "  SUBSPECIES  ... RL_UPDATE KINGDOM_NA  PHYLUM_NAM      CLASS_NAME  \\\n",
              "0       None  ...    2012.1   ANIMALIA    CHORDATA  ACTINOPTERYGII   \n",
              "1       None  ...    2012.1   ANIMALIA    CHORDATA  ACTINOPTERYGII   \n",
              "2       None  ...    2012.1   ANIMALIA    CHORDATA  ACTINOPTERYGII   \n",
              "3       None  ...    2012.1   ANIMALIA    CHORDATA  ACTINOPTERYGII   \n",
              "4       None  ...    2012.1   ANIMALIA    CHORDATA  ACTINOPTERYGII   \n",
              "\n",
              "    ORDER_NAME     FAMILY_NAM GENUS_NAME   SPECIES_NA CATEGORY  \\\n",
              "0  PERCIFORMES  POMACENTRIDAE  Stegastes     leucorus       VU   \n",
              "1  PERCIFORMES  POMACENTRIDAE  Stegastes     leucorus       VU   \n",
              "2  PERCIFORMES  POMACENTRIDAE  Stegastes     leucorus       VU   \n",
              "3  PERCIFORMES  POMACENTRIDAE    Chromis  intercrusma       LC   \n",
              "4  PERCIFORMES  POMACENTRIDAE    Chromis  intercrusma       LC   \n",
              "\n",
              "                                            geometry  \n",
              "0  POLYGON ((-115.64375 29.71392, -115.61585 29.6...  \n",
              "1  POLYGON ((-105.58995 21.89340, -105.56483 21.8...  \n",
              "2  POLYGON ((-111.15962 19.01536, -111.15948 18.9...  \n",
              "3  POLYGON ((-80.86500 -0.77894, -80.75930 -0.833...  \n",
              "4  POLYGON ((-67.33922 -55.67610, -67.33755 -55.6...  \n",
              "\n",
              "[5 rows x 24 columns]"
            ]
          },
          "execution_count": 28,
          "metadata": {},
          "output_type": "execute_result"
        }
      ],
      "source": [
        "#reading a shapefile with geopandas\n",
        "\n",
        "\n",
        "fp = 'Data\\DAMSELFISH_distributions.shp'    #get the directory /location of the file\n",
        "read_data = gpd.read_file(fp)\n",
        "read_data.head()\n"
      ]
    },
    {
      "cell_type": "code",
      "execution_count": 29,
      "metadata": {},
      "outputs": [
        {
          "name": "stdout",
          "output_type": "stream",
          "text": [
            "<class 'geopandas.geodataframe.GeoDataFrame'>\n",
            "RangeIndex: 231 entries, 0 to 230\n",
            "Data columns (total 24 columns):\n",
            " #   Column      Non-Null Count  Dtype   \n",
            "---  ------      --------------  -----   \n",
            " 0   ID_NO       231 non-null    float64 \n",
            " 1   BINOMIAL    231 non-null    object  \n",
            " 2   ORIGIN      231 non-null    int64   \n",
            " 3   COMPILER    132 non-null    object  \n",
            " 4   YEAR        231 non-null    int64   \n",
            " 5   CITATION    231 non-null    object  \n",
            " 6   SOURCE      0 non-null      object  \n",
            " 7   DIST_COMM   0 non-null      object  \n",
            " 8   ISLAND      0 non-null      object  \n",
            " 9   SUBSPECIES  0 non-null      object  \n",
            " 10  SUBPOP      0 non-null      object  \n",
            " 11  LEGEND      231 non-null    object  \n",
            " 12  SEASONAL    231 non-null    int64   \n",
            " 13  TAX_COMM    0 non-null      object  \n",
            " 14  RL_UPDATE   231 non-null    float64 \n",
            " 15  KINGDOM_NA  231 non-null    object  \n",
            " 16  PHYLUM_NAM  231 non-null    object  \n",
            " 17  CLASS_NAME  231 non-null    object  \n",
            " 18  ORDER_NAME  231 non-null    object  \n",
            " 19  FAMILY_NAM  231 non-null    object  \n",
            " 20  GENUS_NAME  231 non-null    object  \n",
            " 21  SPECIES_NA  231 non-null    object  \n",
            " 22  CATEGORY    231 non-null    object  \n",
            " 23  geometry    231 non-null    geometry\n",
            "dtypes: float64(2), geometry(1), int64(3), object(18)\n",
            "memory usage: 43.4+ KB\n"
          ]
        }
      ],
      "source": [
        "read_data.info()"
      ]
    },
    {
      "cell_type": "code",
      "execution_count": 30,
      "metadata": {},
      "outputs": [
        {
          "data": {
            "text/plain": [
              "<Axes: >"
            ]
          },
          "execution_count": 30,
          "metadata": {},
          "output_type": "execute_result"
        },
        {
          "data": {
            "image/png": "[encoded data removed]",
            "text/plain": [
              "<Figure size 640x480 with 1 Axes>"
            ]
          },
          "metadata": {},
          "output_type": "display_data"
        }
      ],
      "source": [
        "read_data.plot()"
      ]
    },
    {
      "cell_type": "code",
      "execution_count": null,
      "metadata": {},
      "outputs": [],
      "source": []
    },
    {
      "cell_type": "code",
      "execution_count": 31,
      "metadata": {},
      "outputs": [],
      "source": [
        "# writing or selecting content of an existing file into another shapefile\n",
        "\n",
        "selected = read_data[0:50]\n",
        "\n",
        "new_file = 'Data\\select_damselfish_file.shp'   #creates a new file where the cotent will be saved\n",
        "\n",
        "write_file = selected.to_file(new_file)   #writes the selected file into the new file\n",
        "write_file\n"
      ]
    },
    {
      "cell_type": "code",
      "execution_count": 32,
      "metadata": {},
      "outputs": [
        {
          "data": {
            "text/plain": [
              "0    POLYGON ((-115.64375 29.71392, -115.61585 29.6...\n",
              "1    POLYGON ((-105.58995 21.89340, -105.56483 21.8...\n",
              "2    POLYGON ((-111.15962 19.01536, -111.15948 18.9...\n",
              "3    POLYGON ((-80.86500 -0.77894, -80.75930 -0.833...\n",
              "4    POLYGON ((-67.33922 -55.67610, -67.33755 -55.6...\n",
              "Name: geometry, dtype: geometry"
            ]
          },
          "execution_count": 32,
          "metadata": {},
          "output_type": "execute_result"
        }
      ],
      "source": [
        "read_data['geometry'].head()  #prints the first 5 data of any selected column"
      ]
    },
    {
      "cell_type": "code",
      "execution_count": null,
      "metadata": {},
      "outputs": [],
      "source": []
    },
    {
      "cell_type": "code",
      "execution_count": 33,
      "metadata": {},
      "outputs": [],
      "source": [
        "### MAPPING DISTRICTS IN GHANA"
      ]
    },
    {
      "cell_type": "code",
      "execution_count": 34,
      "metadata": {},
      "outputs": [
        {
          "data": {
            "text/html": [
              "<div>\n",
              "<style scoped>\n",
              "    .dataframe tbody tr th:only-of-type {\n",
              "        vertical-align: middle;\n",
              "    }\n",
              "\n",
              "    .dataframe tbody tr th {\n",
              "        vertical-align: top;\n",
              "    }\n",
              "\n",
              "    .dataframe thead th {\n",
              "        text-align: right;\n",
              "    }\n",
              "</style>\n",
              "<table border=\"1\" class=\"dataframe\">\n",
              "  <thead>\n",
              "    <tr style=\"text-align: right;\">\n",
              "      <th></th>\n",
              "      <th>REGION</th>\n",
              "      <th>DISTRICT</th>\n",
              "      <th>ID1</th>\n",
              "      <th>DIST_CODE</th>\n",
              "      <th>AREA</th>\n",
              "      <th>PERIMETER</th>\n",
              "      <th>AREA_KM</th>\n",
              "      <th>geometry</th>\n",
              "    </tr>\n",
              "  </thead>\n",
              "  <tbody>\n",
              "    <tr>\n",
              "      <th>0</th>\n",
              "      <td>GREATER ACCRA</td>\n",
              "      <td>ADENTA</td>\n",
              "      <td>0</td>\n",
              "      <td>0305</td>\n",
              "      <td>8.389607e+08</td>\n",
              "      <td>167547.37152</td>\n",
              "      <td>77.94197</td>\n",
              "      <td>MULTIPOLYGON (((1227875.22840 368213.51214, 12...</td>\n",
              "    </tr>\n",
              "    <tr>\n",
              "      <th>1</th>\n",
              "      <td>GREATER ACCRA</td>\n",
              "      <td>GA SOUTH</td>\n",
              "      <td>715</td>\n",
              "      <td>0301</td>\n",
              "      <td>3.947833e+09</td>\n",
              "      <td>409293.46622</td>\n",
              "      <td>366.76557</td>\n",
              "      <td>POLYGON ((1116038.00020 290630.21493, 1115779....</td>\n",
              "    </tr>\n",
              "    <tr>\n",
              "      <th>2</th>\n",
              "      <td>GREATER ACCRA</td>\n",
              "      <td>DANGBE WEST</td>\n",
              "      <td>743</td>\n",
              "      <td>0309</td>\n",
              "      <td>1.712051e+10</td>\n",
              "      <td>595545.41431</td>\n",
              "      <td>1590.54715</td>\n",
              "      <td>POLYGON ((1391399.49990 478310.71323, 1391378....</td>\n",
              "    </tr>\n",
              "    <tr>\n",
              "      <th>3</th>\n",
              "      <td>GREATER ACCRA</td>\n",
              "      <td>A M A</td>\n",
              "      <td>0</td>\n",
              "      <td>0304</td>\n",
              "      <td>1.906550e+09</td>\n",
              "      <td>205324.16994</td>\n",
              "      <td>177.12421</td>\n",
              "      <td>POLYGON ((1176713.24038 346860.14570, 1177724....</td>\n",
              "    </tr>\n",
              "    <tr>\n",
              "      <th>4</th>\n",
              "      <td>GREATER ACCRA</td>\n",
              "      <td>GA EAST</td>\n",
              "      <td>713</td>\n",
              "      <td>0303</td>\n",
              "      <td>1.650036e+09</td>\n",
              "      <td>258412.98309</td>\n",
              "      <td>153.29333</td>\n",
              "      <td>POLYGON ((1206866.37521 415612.15758, 1206915....</td>\n",
              "    </tr>\n",
              "    <tr>\n",
              "      <th>...</th>\n",
              "      <td>...</td>\n",
              "      <td>...</td>\n",
              "      <td>...</td>\n",
              "      <td>...</td>\n",
              "      <td>...</td>\n",
              "      <td>...</td>\n",
              "      <td>...</td>\n",
              "      <td>...</td>\n",
              "    </tr>\n",
              "    <tr>\n",
              "      <th>165</th>\n",
              "      <td>BRONG AHAFO</td>\n",
              "      <td>WENCHI</td>\n",
              "      <td>0</td>\n",
              "      <td>0714</td>\n",
              "      <td>1.232509e+10</td>\n",
              "      <td>826708.77492</td>\n",
              "      <td>1145.03771</td>\n",
              "      <td>POLYGON ((499336.03930 1057290.99422, 499265.6...</td>\n",
              "    </tr>\n",
              "    <tr>\n",
              "      <th>166</th>\n",
              "      <td>BRONG AHAFO</td>\n",
              "      <td>TANO SOUTH</td>\n",
              "      <td>0</td>\n",
              "      <td>0706</td>\n",
              "      <td>5.263805e+09</td>\n",
              "      <td>454155.17887</td>\n",
              "      <td>489.02326</td>\n",
              "      <td>POLYGON ((508169.34443 855801.14724, 508111.00...</td>\n",
              "    </tr>\n",
              "    <tr>\n",
              "      <th>167</th>\n",
              "      <td>BRONG AHAFO</td>\n",
              "      <td>SUNYANI MUNICIPAL</td>\n",
              "      <td>758</td>\n",
              "      <td>0708</td>\n",
              "      <td>5.454205e+09</td>\n",
              "      <td>532664.27169</td>\n",
              "      <td>506.71204</td>\n",
              "      <td>POLYGON ((422596.42664 976886.18148, 422658.94...</td>\n",
              "    </tr>\n",
              "    <tr>\n",
              "      <th>168</th>\n",
              "      <td>ASHANTI</td>\n",
              "      <td>ASANTE AKIM SOUTH</td>\n",
              "      <td>0</td>\n",
              "      <td>0609</td>\n",
              "      <td>1.241368e+10</td>\n",
              "      <td>808828.24025</td>\n",
              "      <td>1153.26815</td>\n",
              "      <td>POLYGON ((878489.16746 743091.55694, 878493.31...</td>\n",
              "    </tr>\n",
              "    <tr>\n",
              "      <th>169</th>\n",
              "      <td>VOLTA</td>\n",
              "      <td>ADAKLU ANYIGBE</td>\n",
              "      <td>732</td>\n",
              "      <td>0407</td>\n",
              "      <td>1.201756e+10</td>\n",
              "      <td>608593.66446</td>\n",
              "      <td>1116.46728</td>\n",
              "      <td>POLYGON ((1416549.99982 659253.21156, 1416586....</td>\n",
              "    </tr>\n",
              "  </tbody>\n",
              "</table>\n",
              "<p>170 rows × 8 columns</p>\n",
              "</div>"
            ],
            "text/plain": [
              "            REGION           DISTRICT  ID1 DIST_CODE          AREA  \\\n",
              "0    GREATER ACCRA             ADENTA    0      0305  8.389607e+08   \n",
              "1    GREATER ACCRA           GA SOUTH  715      0301  3.947833e+09   \n",
              "2    GREATER ACCRA        DANGBE WEST  743      0309  1.712051e+10   \n",
              "3    GREATER ACCRA              A M A    0      0304  1.906550e+09   \n",
              "4    GREATER ACCRA            GA EAST  713      0303  1.650036e+09   \n",
              "..             ...                ...  ...       ...           ...   \n",
              "165    BRONG AHAFO             WENCHI    0      0714  1.232509e+10   \n",
              "166    BRONG AHAFO         TANO SOUTH    0      0706  5.263805e+09   \n",
              "167    BRONG AHAFO  SUNYANI MUNICIPAL  758      0708  5.454205e+09   \n",
              "168        ASHANTI  ASANTE AKIM SOUTH    0      0609  1.241368e+10   \n",
              "169          VOLTA     ADAKLU ANYIGBE  732      0407  1.201756e+10   \n",
              "\n",
              "        PERIMETER     AREA_KM  \\\n",
              "0    167547.37152    77.94197   \n",
              "1    409293.46622   366.76557   \n",
              "2    595545.41431  1590.54715   \n",
              "3    205324.16994   177.12421   \n",
              "4    258412.98309   153.29333   \n",
              "..            ...         ...   \n",
              "165  826708.77492  1145.03771   \n",
              "166  454155.17887   489.02326   \n",
              "167  532664.27169   506.71204   \n",
              "168  808828.24025  1153.26815   \n",
              "169  608593.66446  1116.46728   \n",
              "\n",
              "                                              geometry  \n",
              "0    MULTIPOLYGON (((1227875.22840 368213.51214, 12...  \n",
              "1    POLYGON ((1116038.00020 290630.21493, 1115779....  \n",
              "2    POLYGON ((1391399.49990 478310.71323, 1391378....  \n",
              "3    POLYGON ((1176713.24038 346860.14570, 1177724....  \n",
              "4    POLYGON ((1206866.37521 415612.15758, 1206915....  \n",
              "..                                                 ...  \n",
              "165  POLYGON ((499336.03930 1057290.99422, 499265.6...  \n",
              "166  POLYGON ((508169.34443 855801.14724, 508111.00...  \n",
              "167  POLYGON ((422596.42664 976886.18148, 422658.94...  \n",
              "168  POLYGON ((878489.16746 743091.55694, 878493.31...  \n",
              "169  POLYGON ((1416549.99982 659253.21156, 1416586....  \n",
              "\n",
              "[170 rows x 8 columns]"
            ]
          },
          "execution_count": 34,
          "metadata": {},
          "output_type": "execute_result"
        }
      ],
      "source": [
        "import geopandas as gpd\n",
        "\n",
        "districts_path = 'Districts\\Ghana_Districts_170.shp'\n",
        "read_districts = gpd.read_file(districts_path)\n",
        "read_districts"
      ]
    },
    {
      "cell_type": "code",
      "execution_count": 35,
      "metadata": {},
      "outputs": [],
      "source": [
        "##### select particular columns########"
      ]
    },
    {
      "cell_type": "code",
      "execution_count": 36,
      "metadata": {},
      "outputs": [
        {
          "data": {
            "text/html": [
              "<div>\n",
              "<style scoped>\n",
              "    .dataframe tbody tr th:only-of-type {\n",
              "        vertical-align: middle;\n",
              "    }\n",
              "\n",
              "    .dataframe tbody tr th {\n",
              "        vertical-align: top;\n",
              "    }\n",
              "\n",
              "    .dataframe thead th {\n",
              "        text-align: right;\n",
              "    }\n",
              "</style>\n",
              "<table border=\"1\" class=\"dataframe\">\n",
              "  <thead>\n",
              "    <tr style=\"text-align: right;\">\n",
              "      <th></th>\n",
              "      <th>REGION</th>\n",
              "      <th>DISTRICT</th>\n",
              "      <th>geometry</th>\n",
              "    </tr>\n",
              "  </thead>\n",
              "  <tbody>\n",
              "    <tr>\n",
              "      <th>0</th>\n",
              "      <td>GREATER ACCRA</td>\n",
              "      <td>ADENTA</td>\n",
              "      <td>MULTIPOLYGON (((1227875.22840 368213.51214, 12...</td>\n",
              "    </tr>\n",
              "    <tr>\n",
              "      <th>1</th>\n",
              "      <td>GREATER ACCRA</td>\n",
              "      <td>GA SOUTH</td>\n",
              "      <td>POLYGON ((1116038.00020 290630.21493, 1115779....</td>\n",
              "    </tr>\n",
              "    <tr>\n",
              "      <th>2</th>\n",
              "      <td>GREATER ACCRA</td>\n",
              "      <td>DANGBE WEST</td>\n",
              "      <td>POLYGON ((1391399.49990 478310.71323, 1391378....</td>\n",
              "    </tr>\n",
              "    <tr>\n",
              "      <th>3</th>\n",
              "      <td>GREATER ACCRA</td>\n",
              "      <td>A M A</td>\n",
              "      <td>POLYGON ((1176713.24038 346860.14570, 1177724....</td>\n",
              "    </tr>\n",
              "    <tr>\n",
              "      <th>4</th>\n",
              "      <td>GREATER ACCRA</td>\n",
              "      <td>GA EAST</td>\n",
              "      <td>POLYGON ((1206866.37521 415612.15758, 1206915....</td>\n",
              "    </tr>\n",
              "    <tr>\n",
              "      <th>...</th>\n",
              "      <td>...</td>\n",
              "      <td>...</td>\n",
              "      <td>...</td>\n",
              "    </tr>\n",
              "    <tr>\n",
              "      <th>165</th>\n",
              "      <td>BRONG AHAFO</td>\n",
              "      <td>WENCHI</td>\n",
              "      <td>POLYGON ((499336.03930 1057290.99422, 499265.6...</td>\n",
              "    </tr>\n",
              "    <tr>\n",
              "      <th>166</th>\n",
              "      <td>BRONG AHAFO</td>\n",
              "      <td>TANO SOUTH</td>\n",
              "      <td>POLYGON ((508169.34443 855801.14724, 508111.00...</td>\n",
              "    </tr>\n",
              "    <tr>\n",
              "      <th>167</th>\n",
              "      <td>BRONG AHAFO</td>\n",
              "      <td>SUNYANI MUNICIPAL</td>\n",
              "      <td>POLYGON ((422596.42664 976886.18148, 422658.94...</td>\n",
              "    </tr>\n",
              "    <tr>\n",
              "      <th>168</th>\n",
              "      <td>ASHANTI</td>\n",
              "      <td>ASANTE AKIM SOUTH</td>\n",
              "      <td>POLYGON ((878489.16746 743091.55694, 878493.31...</td>\n",
              "    </tr>\n",
              "    <tr>\n",
              "      <th>169</th>\n",
              "      <td>VOLTA</td>\n",
              "      <td>ADAKLU ANYIGBE</td>\n",
              "      <td>POLYGON ((1416549.99982 659253.21156, 1416586....</td>\n",
              "    </tr>\n",
              "  </tbody>\n",
              "</table>\n",
              "<p>170 rows × 3 columns</p>\n",
              "</div>"
            ],
            "text/plain": [
              "            REGION           DISTRICT  \\\n",
              "0    GREATER ACCRA             ADENTA   \n",
              "1    GREATER ACCRA           GA SOUTH   \n",
              "2    GREATER ACCRA        DANGBE WEST   \n",
              "3    GREATER ACCRA              A M A   \n",
              "4    GREATER ACCRA            GA EAST   \n",
              "..             ...                ...   \n",
              "165    BRONG AHAFO             WENCHI   \n",
              "166    BRONG AHAFO         TANO SOUTH   \n",
              "167    BRONG AHAFO  SUNYANI MUNICIPAL   \n",
              "168        ASHANTI  ASANTE AKIM SOUTH   \n",
              "169          VOLTA     ADAKLU ANYIGBE   \n",
              "\n",
              "                                              geometry  \n",
              "0    MULTIPOLYGON (((1227875.22840 368213.51214, 12...  \n",
              "1    POLYGON ((1116038.00020 290630.21493, 1115779....  \n",
              "2    POLYGON ((1391399.49990 478310.71323, 1391378....  \n",
              "3    POLYGON ((1176713.24038 346860.14570, 1177724....  \n",
              "4    POLYGON ((1206866.37521 415612.15758, 1206915....  \n",
              "..                                                 ...  \n",
              "165  POLYGON ((499336.03930 1057290.99422, 499265.6...  \n",
              "166  POLYGON ((508169.34443 855801.14724, 508111.00...  \n",
              "167  POLYGON ((422596.42664 976886.18148, 422658.94...  \n",
              "168  POLYGON ((878489.16746 743091.55694, 878493.31...  \n",
              "169  POLYGON ((1416549.99982 659253.21156, 1416586....  \n",
              "\n",
              "[170 rows x 3 columns]"
            ]
          },
          "execution_count": 36,
          "metadata": {},
          "output_type": "execute_result"
        }
      ],
      "source": [
        "columns = ['REGION', 'DISTRICT', 'geometry']\n",
        "selected_columns = read_districts[columns]\n",
        "selected_columns"
      ]
    },
    {
      "cell_type": "code",
      "execution_count": 37,
      "metadata": {},
      "outputs": [
        {
          "name": "stdout",
          "output_type": "stream",
          "text": [
            "0      MULTIPOLYGON (((1227875.22840 368213.51214, 12...\n",
            "1      POLYGON ((1116038.00020 290630.21493, 1115779....\n",
            "2      POLYGON ((1391399.49990 478310.71323, 1391378....\n",
            "3      POLYGON ((1176713.24038 346860.14570, 1177724....\n",
            "4      POLYGON ((1206866.37521 415612.15758, 1206915....\n",
            "                             ...                        \n",
            "165    POLYGON ((499336.03930 1057290.99422, 499265.6...\n",
            "166    POLYGON ((508169.34443 855801.14724, 508111.00...\n",
            "167    POLYGON ((422596.42664 976886.18148, 422658.94...\n",
            "168    POLYGON ((878489.16746 743091.55694, 878493.31...\n",
            "169    POLYGON ((1416549.99982 659253.21156, 1416586....\n",
            "Name: geometry, Length: 170, dtype: geometry\n"
          ]
        }
      ],
      "source": [
        "select_geo = selected_columns['geometry']\n",
        "select_geo"
      ]
    },
    {
      "cell_type": "code",
      "execution_count": null,
      "metadata": {},
      "outputs": [],
      "source": []
    },
    {
      "cell_type": "code",
      "execution_count": 38,
      "metadata": {},
      "outputs": [
        {
          "data": {
            "text/plain": [
              "array(['GREATER ACCRA', 'NORTHERN', 'UPPER WEST', 'UPPER EAST',\n",
              "       'BRONG AHAFO', 'VOLTA', 'ASHANTI', 'CENTRAL', 'WESTERN', 'EASTERN'],\n",
              "      dtype=object)"
            ]
          },
          "execution_count": 38,
          "metadata": {},
          "output_type": "execute_result"
        }
      ],
      "source": [
        "selected_columns['REGION'].unique()\n"
      ]
    },
    {
      "cell_type": "code",
      "execution_count": 39,
      "metadata": {},
      "outputs": [
        {
          "data": {
            "text/plain": [
              "<pandas.core.groupby.generic.DataFrameGroupBy object at 0x0000028D6A729950>"
            ]
          },
          "execution_count": 39,
          "metadata": {},
          "output_type": "execute_result"
        }
      ],
      "source": [
        "rows = selected_columns.groupby('REGION')\n",
        "rows"
      ]
    },
    {
      "cell_type": "code",
      "execution_count": 40,
      "metadata": {},
      "outputs": [
        {
          "data": {
            "text/plain": [
              "{'ASHANTI': [55, 56, 57, 58, 59, 60, 61, 62, 63, 64, 65, 66, 67, 68, 69, 70, 71, 72, 73, 74, 75, 124, 125, 129, 134, 146, 168], 'BRONG AHAFO': [34, 35, 36, 37, 38, 39, 40, 41, 42, 43, 130, 133, 135, 136, 137, 143, 145, 147, 152, 165, 166, 167], 'CENTRAL': [76, 77, 78, 79, 80, 81, 82, 83, 84, 85, 86, 87, 122, 123, 126, 127, 128], 'EASTERN': [101, 102, 103, 104, 105, 106, 107, 108, 109, 110, 111, 112, 113, 114, 115, 116, 117, 118, 119, 141, 142], 'GREATER ACCRA': [0, 1, 2, 3, 4, 5, 6, 7, 139, 140], 'NORTHERN': [8, 9, 10, 11, 12, 13, 25, 30, 32, 138, 148, 151, 153, 154, 155, 160, 161, 162, 163, 164], 'UPPER EAST': [20, 21, 22, 23, 27, 28, 29, 31, 33], 'UPPER WEST': [14, 15, 16, 17, 18, 19, 24, 26, 159], 'VOLTA': [44, 45, 46, 47, 48, 49, 50, 51, 52, 53, 54, 144, 149, 150, 156, 157, 158, 169], 'WESTERN': [88, 89, 90, 91, 92, 93, 94, 95, 96, 97, 98, 99, 100, 120, 121, 131, 132]}"
            ]
          },
          "execution_count": 40,
          "metadata": {},
          "output_type": "execute_result"
        }
      ],
      "source": [
        "grouped = rows.groups\n",
        "grouped"
      ]
    },
    {
      "cell_type": "code",
      "execution_count": 41,
      "metadata": {},
      "outputs": [],
      "source": [
        "#write individual regions with info into seperate shapefiles"
      ]
    },
    {
      "cell_type": "code",
      "execution_count": 42,
      "metadata": {},
      "outputs": [
        {
          "data": {
            "text/html": [
              "<div>\n",
              "<style scoped>\n",
              "    .dataframe tbody tr th:only-of-type {\n",
              "        vertical-align: middle;\n",
              "    }\n",
              "\n",
              "    .dataframe tbody tr th {\n",
              "        vertical-align: top;\n",
              "    }\n",
              "\n",
              "    .dataframe thead th {\n",
              "        text-align: right;\n",
              "    }\n",
              "</style>\n",
              "<table border=\"1\" class=\"dataframe\">\n",
              "  <thead>\n",
              "    <tr style=\"text-align: right;\">\n",
              "      <th></th>\n",
              "      <th>REGION</th>\n",
              "      <th>DISTRICT</th>\n",
              "      <th>geometry</th>\n",
              "    </tr>\n",
              "  </thead>\n",
              "  <tbody>\n",
              "    <tr>\n",
              "      <th>0</th>\n",
              "      <td>GREATER ACCRA</td>\n",
              "      <td>ADENTA</td>\n",
              "      <td>MULTIPOLYGON (((1227875.22840 368213.51214, 12...</td>\n",
              "    </tr>\n",
              "    <tr>\n",
              "      <th>1</th>\n",
              "      <td>GREATER ACCRA</td>\n",
              "      <td>GA SOUTH</td>\n",
              "      <td>POLYGON ((1116038.00020 290630.21493, 1115779....</td>\n",
              "    </tr>\n",
              "    <tr>\n",
              "      <th>2</th>\n",
              "      <td>GREATER ACCRA</td>\n",
              "      <td>DANGBE WEST</td>\n",
              "      <td>POLYGON ((1391399.49990 478310.71323, 1391378....</td>\n",
              "    </tr>\n",
              "    <tr>\n",
              "      <th>3</th>\n",
              "      <td>GREATER ACCRA</td>\n",
              "      <td>A M A</td>\n",
              "      <td>POLYGON ((1176713.24038 346860.14570, 1177724....</td>\n",
              "    </tr>\n",
              "    <tr>\n",
              "      <th>4</th>\n",
              "      <td>GREATER ACCRA</td>\n",
              "      <td>GA EAST</td>\n",
              "      <td>POLYGON ((1206866.37521 415612.15758, 1206915....</td>\n",
              "    </tr>\n",
              "    <tr>\n",
              "      <th>5</th>\n",
              "      <td>GREATER ACCRA</td>\n",
              "      <td>ASHAIMAN</td>\n",
              "      <td>POLYGON ((1244930.87264 380798.48104, 1252230....</td>\n",
              "    </tr>\n",
              "    <tr>\n",
              "      <th>6</th>\n",
              "      <td>GREATER ACCRA</td>\n",
              "      <td>LEDZOKUKU / KROWOR</td>\n",
              "      <td>POLYGON ((1212145.65713 350263.91123, 1212266....</td>\n",
              "    </tr>\n",
              "    <tr>\n",
              "      <th>7</th>\n",
              "      <td>GREATER ACCRA</td>\n",
              "      <td>TEMA</td>\n",
              "      <td>POLYGON ((1278911.37895 363844.86320, 1278894....</td>\n",
              "    </tr>\n",
              "    <tr>\n",
              "      <th>139</th>\n",
              "      <td>GREATER ACCRA</td>\n",
              "      <td>GA WEST</td>\n",
              "      <td>POLYGON ((1135449.00016 398794.21395, 1135494....</td>\n",
              "    </tr>\n",
              "    <tr>\n",
              "      <th>140</th>\n",
              "      <td>GREATER ACCRA</td>\n",
              "      <td>DANGBE EAST</td>\n",
              "      <td>POLYGON ((1390570.12659 406916.14250, 1390553....</td>\n",
              "    </tr>\n",
              "  </tbody>\n",
              "</table>\n",
              "</div>"
            ],
            "text/plain": [
              "            REGION            DISTRICT  \\\n",
              "0    GREATER ACCRA              ADENTA   \n",
              "1    GREATER ACCRA            GA SOUTH   \n",
              "2    GREATER ACCRA         DANGBE WEST   \n",
              "3    GREATER ACCRA               A M A   \n",
              "4    GREATER ACCRA             GA EAST   \n",
              "5    GREATER ACCRA            ASHAIMAN   \n",
              "6    GREATER ACCRA  LEDZOKUKU / KROWOR   \n",
              "7    GREATER ACCRA                TEMA   \n",
              "139  GREATER ACCRA             GA WEST   \n",
              "140  GREATER ACCRA         DANGBE EAST   \n",
              "\n",
              "                                              geometry  \n",
              "0    MULTIPOLYGON (((1227875.22840 368213.51214, 12...  \n",
              "1    POLYGON ((1116038.00020 290630.21493, 1115779....  \n",
              "2    POLYGON ((1391399.49990 478310.71323, 1391378....  \n",
              "3    POLYGON ((1176713.24038 346860.14570, 1177724....  \n",
              "4    POLYGON ((1206866.37521 415612.15758, 1206915....  \n",
              "5    POLYGON ((1244930.87264 380798.48104, 1252230....  \n",
              "6    POLYGON ((1212145.65713 350263.91123, 1212266....  \n",
              "7    POLYGON ((1278911.37895 363844.86320, 1278894....  \n",
              "139  POLYGON ((1135449.00016 398794.21395, 1135494....  \n",
              "140  POLYGON ((1390570.12659 406916.14250, 1390553....  "
            ]
          },
          "execution_count": 42,
          "metadata": {},
          "output_type": "execute_result"
        }
      ],
      "source": [
        "gar = rows.get_group('GREATER ACCRA')\n",
        "gar"
      ]
    },
    {
      "cell_type": "code",
      "execution_count": null,
      "metadata": {},
      "outputs": [],
      "source": []
    },
    {
      "cell_type": "code",
      "execution_count": 58,
      "metadata": {},
      "outputs": [
        {
          "data": {
            "text/plain": [
              "Text(0.5, 1.0, 'Greater Accra Region')"
            ]
          },
          "execution_count": 58,
          "metadata": {},
          "output_type": "execute_result"
        },
        {
          "data": {
            "image/png": "[encoded data removed]",
            "text/plain": [
              "<Figure size 640x480 with 1 Axes>"
            ]
          },
          "metadata": {},
          "output_type": "display_data"
        }
      ],
      "source": [
        "import matplotlib\n",
        "\n",
        "gar.plot()\n",
        "matplotlib.pyplot.title('Greater Accra Region')"
      ]
    },
    {
      "cell_type": "code",
      "execution_count": null,
      "metadata": {},
      "outputs": [],
      "source": []
    },
    {
      "cell_type": "code",
      "execution_count": 45,
      "metadata": {},
      "outputs": [],
      "source": [
        "from pyproj import CRS"
      ]
    },
    {
      "cell_type": "code",
      "execution_count": 46,
      "metadata": {},
      "outputs": [
        {
          "data": {
            "text/plain": [
              "<Geographic 2D CRS: EPSG:4326>\n",
              "Name: WGS 84\n",
              "Axis Info [ellipsoidal]:\n",
              "- Lat[north]: Geodetic latitude (degree)\n",
              "- Lon[east]: Geodetic longitude (degree)\n",
              "Area of Use:\n",
              "- name: World.\n",
              "- bounds: (-180.0, -90.0, 180.0, 90.0)\n",
              "Datum: World Geodetic System 1984 ensemble\n",
              "- Ellipsoid: WGS 84\n",
              "- Prime Meridian: Greenwich"
            ]
          },
          "execution_count": 46,
          "metadata": {},
          "output_type": "execute_result"
        }
      ],
      "source": [
        "read_data.crs"
      ]
    },
    {
      "cell_type": "code",
      "execution_count": 47,
      "metadata": {},
      "outputs": [
        {
          "data": {
            "text/plain": [
              "0    POLYGON ((-115.64375 29.71392, -115.61585 29.6...\n",
              "1    POLYGON ((-105.58995 21.89340, -105.56483 21.8...\n",
              "2    POLYGON ((-111.15962 19.01536, -111.15948 18.9...\n",
              "3    POLYGON ((-80.86500 -0.77894, -80.75930 -0.833...\n",
              "4    POLYGON ((-67.33922 -55.67610, -67.33755 -55.6...\n",
              "Name: geometry, dtype: geometry"
            ]
          },
          "execution_count": 47,
          "metadata": {},
          "output_type": "execute_result"
        }
      ],
      "source": [
        "read_data.geometry.head()"
      ]
    },
    {
      "cell_type": "code",
      "execution_count": 63,
      "metadata": {},
      "outputs": [
        {
          "data": {
            "text/plain": [
              "<Axes: >"
            ]
          },
          "execution_count": 63,
          "metadata": {},
          "output_type": "execute_result"
        },
        {
          "data": {
            "image/png": "[encoded data removed]",
            "text/plain": [
              "<Figure size 640x480 with 1 Axes>"
            ]
          },
          "metadata": {},
          "output_type": "display_data"
        }
      ],
      "source": [
        "ashanti = rows.get_group('ASHANTI')    #projection needs to be change because this is distorted \n",
        "\n",
        "ashanti.plot()"
      ]
    },
    {
      "cell_type": "code",
      "execution_count": 65,
      "metadata": {},
      "outputs": [
        {
          "data": {
            "text/plain": [
              "<Geographic 2D CRS: EPSG:4326>\n",
              "Name: WGS 84\n",
              "Axis Info [ellipsoidal]:\n",
              "- Lat[north]: Geodetic latitude (degree)\n",
              "- Lon[east]: Geodetic longitude (degree)\n",
              "Area of Use:\n",
              "- name: World.\n",
              "- bounds: (-180.0, -90.0, 180.0, 90.0)\n",
              "Datum: World Geodetic System 1984 ensemble\n",
              "- Ellipsoid: WGS 84\n",
              "- Prime Meridian: Greenwich"
            ]
          },
          "execution_count": 65,
          "metadata": {},
          "output_type": "execute_result"
        }
      ],
      "source": [
        "ashanti.crs"
      ]
    },
    {
      "cell_type": "code",
      "execution_count": null,
      "metadata": {},
      "outputs": [],
      "source": []
    },
    {
      "cell_type": "code",
      "execution_count": 50,
      "metadata": {},
      "outputs": [
        {
          "data": {
            "text/plain": [
              "<Projected CRS: ESRI:53008>\n",
              "Name: Sphere_Sinusoidal\n",
              "Axis Info [cartesian]:\n",
              "- E[east]: Easting (metre)\n",
              "- N[north]: Northing (metre)\n",
              "Area of Use:\n",
              "- name: World.\n",
              "- bounds: (-180.0, -90.0, 180.0, 90.0)\n",
              "Coordinate Operation:\n",
              "- name: Sphere_Sinusoidal\n",
              "- method: Sinusoidal\n",
              "Datum: Not specified (based on Authalic Sphere)\n",
              "- Ellipsoid: Sphere\n",
              "- Prime Meridian: Greenwich"
            ]
          },
          "execution_count": 50,
          "metadata": {},
          "output_type": "execute_result"
        }
      ],
      "source": [
        "import pyproj\n",
        "\n",
        "crs = pyproj.CRS('ESRI:53008')\n",
        "crs\n"
      ]
    },
    {
      "cell_type": "code",
      "execution_count": null,
      "metadata": {},
      "outputs": [],
      "source": []
    },
    {
      "cell_type": "code",
      "execution_count": 51,
      "metadata": {},
      "outputs": [
        {
          "data": {
            "image/svg+xml": [
              "<svg xmlns=\"http://www.w3.org/2000/svg\" xmlns:xlink=\"http://www.w3.org/1999/xlink\" width=\"100.0\" height=\"100.0\" viewBox=\"20.140887451171874 59.3667594909668 11.881116485595701 11.161889648437494\" preserveAspectRatio=\"xMinYMin meet\"><g transform=\"matrix(1,0,0,-1,0,129.8954086303711)\"><path fill-rule=\"evenodd\" fill=\"#66cc99\" stroke=\"#555555\" stroke-width=\"0.23762232971191402\" opacity=\"0.6\" d=\"M 29.99671173095703,63.748023986816406 L 31.58196258544922,62.90789794921875 L 27.738052368164062,60.511383056640625 L 26.50013542175293,60.44499588012695 L 26.652359008789062,60.646385192871094 L 25.921663284301758,60.243743896484375 L 22.90027618408203,59.806800842285156 L 23.257217407226562,59.91944122314453 L 23.335693359375,60.02395248413086 L 22.87444305419922,60.14555358886719 L 23.08465003967285,60.3452033996582 L 22.565473556518555,60.211936950683594 L 21.452774047851562,60.56249237060547 L 21.66388702392578,61.54027557373047 L 21.065969467163086,62.59798049926758 L 21.67659568786621,63.02013397216797 L 21.496871948242188,63.20353698730469 L 22.339998245239258,63.27652359008789 L 22.288192749023438,63.525691986083984 L 24.539581298828125,64.79915618896484 L 25.444232940673828,64.9533920288086 L 25.303749084472656,65.51513671875 L 24.669166564941406,65.65470886230469 L 24.689163208007812,65.89610290527344 L 24.174999237060547,65.79151916503906 L 23.68471908569336,66.26332092285156 L 24.000761032104492,66.80228424072266 L 23.57332992553711,67.1570053100586 L 23.76513671875,67.4168701171875 L 23.430830001831055,67.47978210449219 L 23.6597900390625,67.94589233398438 L 20.580928802490234,69.060302734375 L 21.320831298828125,69.32611083984375 L 22.398330688476562,68.71110534667969 L 23.97638702392578,68.83248901367188 L 24.934917449951172,68.580810546875 L 25.7611083984375,68.98916625976562 L 25.95930290222168,69.68568420410156 L 26.476804733276367,69.9363784790039 L 27.91069221496582,70.08860778808594 L 29.1027774810791,69.70597076416016 L 29.29846954345703,69.48533630371094 L 28.4355525970459,68.90263366699219 L 28.817358016967773,68.84700012207031 L 28.459857940673828,68.53485107421875 L 30.028610229492188,67.69471740722656 L 29.075136184692383,66.90360260009766 L 30.13492774963379,65.70887756347656 L 29.818885803222656,65.6533203125 L 29.640830993652344,64.92096710205078 L 30.57735824584961,64.22373962402344 L 29.99671173095703,63.748023986816406 z\" /></g></svg>"
            ],
            "text/plain": [
              "<POLYGON ((29.997 63.748, 31.582 62.908, 27.738 60.511, 26.5 60.445, 26.652 ...>"
            ]
          },
          "execution_count": 51,
          "metadata": {},
          "output_type": "execute_result"
        }
      ],
      "source": [
        "\n",
        "longitudes = [29.99671173095703, 31.58196258544922, 27.738052368164062, 26.50013542175293, 26.652359008789062, 25.921663284301758, 22.90027618408203, 23.257217407226562,\n",
        "           23.335693359375, 22.87444305419922, 23.08465003967285, 22.565473556518555, 21.452774047851562, 21.66388702392578, 21.065969467163086, 21.67659568786621,\n",
        "           21.496871948242188, 22.339998245239258, 22.288192749023438, 24.539581298828125, 25.444232940673828, 25.303749084472656, 24.669166564941406, 24.689163208007812,\n",
        "           24.174999237060547, 23.68471908569336, 24.000761032104492, 23.57332992553711, 23.76513671875, 23.430830001831055, 23.6597900390625, 20.580928802490234, 21.320831298828125,\n",
        "           22.398330688476562, 23.97638702392578, 24.934917449951172, 25.7611083984375, 25.95930290222168, 26.476804733276367, 27.91069221496582, 29.1027774810791, 29.29846954345703,\n",
        "           28.4355525970459, 28.817358016967773, 28.459857940673828, 30.028610229492188, 29.075136184692383, 30.13492774963379, 29.818885803222656, 29.640830993652344, 30.57735824584961,\n",
        "           29.99671173095703]\n",
        "\n",
        "# Latitudes in decimal degrees\n",
        "latitudes = [63.748023986816406, 62.90789794921875, 60.511383056640625, 60.44499588012695, 60.646385192871094, 60.243743896484375, 59.806800842285156, 59.91944122314453,\n",
        "           60.02395248413086, 60.14555358886719, 60.3452033996582, 60.211936950683594, 60.56249237060547, 61.54027557373047, 62.59798049926758, 63.02013397216797,\n",
        "           63.20353698730469, 63.27652359008789, 63.525691986083984, 64.79915618896484, 64.9533920288086, 65.51513671875, 65.65470886230469, 65.89610290527344, 65.79151916503906,\n",
        "           66.26332092285156, 66.80228424072266, 67.1570053100586, 67.4168701171875, 67.47978210449219, 67.94589233398438, 69.060302734375, 69.32611083984375, 68.71110534667969,\n",
        "           68.83248901367188, 68.580810546875, 68.98916625976562, 69.68568420410156, 69.9363784790039, 70.08860778808594, 69.70597076416016, 69.48533630371094, 68.90263366699219,\n",
        "           68.84700012207031, 68.53485107421875, 67.69471740722656, 66.90360260009766, 65.70887756347656, 65.6533203125, 64.92096710205078, 64.22373962402344, 63.748023986816406]\n",
        "\n",
        "\n",
        "\n",
        "coordinate_pairs = []    #sets an empty list to store a list of tuple sets\n",
        "\n",
        "for i in range(len(longitudes)):\n",
        "    coordinate_pairs.append((longitudes[i], latitudes[i]))\n",
        "\n",
        "polygon = Polygon(coordinate_pairs)  #this line of code creates a geometry polygon from the coordinate_pairs variable \n",
        "polygon\n",
        " "
      ]
    },
    {
      "cell_type": "code",
      "execution_count": 52,
      "metadata": {},
      "outputs": [
        {
          "data": {
            "text/plain": [
              "<Geographic 2D CRS: EPSG:4326>\n",
              "Name: WGS 84\n",
              "Axis Info [ellipsoidal]:\n",
              "- Lat[north]: Geodetic latitude (degree)\n",
              "- Lon[east]: Geodetic longitude (degree)\n",
              "Area of Use:\n",
              "- name: World.\n",
              "- bounds: (-180.0, -90.0, 180.0, 90.0)\n",
              "Datum: World Geodetic System 1984 ensemble\n",
              "- Ellipsoid: WGS 84\n",
              "- Prime Meridian: Greenwich"
            ]
          },
          "execution_count": 52,
          "metadata": {},
          "output_type": "execute_result"
        }
      ],
      "source": [
        "crs = 'EPSG:4326'\n",
        "\n",
        "geo = gpd.GeoDataFrame(geometry =[polygon] , crs = crs)  #creates an empty geodataframe with the function taking a geometry and crs as constant arguments\n",
        "\n",
        "geo.crs"
      ]
    },
    {
      "cell_type": "code",
      "execution_count": 53,
      "metadata": {},
      "outputs": [
        {
          "data": {
            "text/plain": [
              "Text(0.5, 1.0, 'Mysterious Polygon WSG84')"
            ]
          },
          "execution_count": 53,
          "metadata": {},
          "output_type": "execute_result"
        },
        {
          "data": {
            "image/png": "[encoded data removed]",
            "text/plain": [
              "<Figure size 640x480 with 1 Axes>"
            ]
          },
          "metadata": {},
          "output_type": "display_data"
        }
      ],
      "source": [
        "geo.plot()\n",
        "matplotlib.pyplot.title('Mysterious Polygon WSG84')"
      ]
    },
    {
      "cell_type": "code",
      "execution_count": 54,
      "metadata": {},
      "outputs": [],
      "source": [
        "# saves the geodataframe file to the laptop directory as a GeoPackage file\n",
        "saved = r'C:\\Users\\acer\\Documents\\projects\\learning_gis\\mysterious_polygon.gpkg'\n",
        "save_file = geo.to_file(saved)\n",
        "save_file\n"
      ]
    },
    {
      "cell_type": "code",
      "execution_count": 55,
      "metadata": {},
      "outputs": [
        {
          "data": {
            "text/plain": [
              "<Projected CRS: EPSG:32735>\n",
              "Name: WGS 84 / UTM zone 35S\n",
              "Axis Info [cartesian]:\n",
              "- E[east]: Easting (metre)\n",
              "- N[north]: Northing (metre)\n",
              "Area of Use:\n",
              "- name: Between 24°E and 30°E, southern hemisphere between 80°S and equator, onshore and offshore. Botswana. Burundi. Democratic Republic of the Congo (Zaire). Rwanda. South Africa. Tanzania. Uganda. Zambia. Zimbabwe.\n",
              "- bounds: (24.0, -80.0, 30.0, 0.0)\n",
              "Coordinate Operation:\n",
              "- name: UTM zone 35S\n",
              "- method: Transverse Mercator\n",
              "Datum: World Geodetic System 1984 ensemble\n",
              "- Ellipsoid: WGS 84\n",
              "- Prime Meridian: Greenwich"
            ]
          },
          "execution_count": 55,
          "metadata": {},
          "output_type": "execute_result"
        }
      ],
      "source": [
        "crs= pyproj.CRS('EPSG:32735')\n",
        "crs"
      ]
    },
    {
      "cell_type": "code",
      "execution_count": null,
      "metadata": {},
      "outputs": [],
      "source": []
    },
    {
      "cell_type": "code",
      "execution_count": 70,
      "metadata": {},
      "outputs": [
        {
          "data": {
            "text/plain": [
              "[('name', 'Gina'), ('age', 23)]"
            ]
          },
          "execution_count": 70,
          "metadata": {},
          "output_type": "execute_result"
        }
      ],
      "source": [
        "people = {\n",
        "    'name': 'Gina',\n",
        "    'age': 23\n",
        "}\n",
        "\n",
        "\n",
        "people_keys = people.items()\n",
        "list(people_keys)"
      ]
    },
    {
      "cell_type": "code",
      "execution_count": null,
      "metadata": {},
      "outputs": [],
      "source": []
    }
  ],
  "metadata": {
    "kernelspec": {
      "display_name": "Python 3",
      "language": "python",
      "name": "python3"
    },
    "language_info": {
      "codemirror_mode": {
        "name": "ipython",
        "version": 3
      },
      "file_extension": ".py",
      "mimetype": "text/x-python",
      "name": "python",
      "nbconvert_exporter": "python",
      "pygments_lexer": "ipython3",
      "version": "3.11.1"
    }
  },
  "nbformat": 4,
  "nbformat_minor": 4
}
